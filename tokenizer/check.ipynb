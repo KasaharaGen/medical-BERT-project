{
 "cells": [
  {
   "cell_type": "code",
   "execution_count": 1,
   "metadata": {},
   "outputs": [
    {
     "name": "stdout",
     "output_type": "stream",
     "text": [
      "語彙数（トークン数）: 100000\n"
     ]
    }
   ],
   "source": [
    "from tokenizers import Tokenizer\n",
    "\n",
    "tokenizer = Tokenizer.from_file(\"tokenizer.json\")\n",
    "vocab_size = tokenizer.get_vocab_size()\n",
    "print(f\"語彙数（トークン数）: {vocab_size}\")\n"
   ]
  },
  {
   "cell_type": "code",
   "execution_count": 3,
   "metadata": {},
   "outputs": [
    {
     "ename": "KeyboardInterrupt",
     "evalue": "",
     "output_type": "error",
     "traceback": [
      "\u001b[31m---------------------------------------------------------------------------\u001b[39m",
      "\u001b[31mKeyboardInterrupt\u001b[39m                         Traceback (most recent call last)",
      "\u001b[36mCell\u001b[39m\u001b[36m \u001b[39m\u001b[32mIn[3]\u001b[39m\u001b[32m, line 15\u001b[39m\n\u001b[32m     12\u001b[39m unk_summary = []\n\u001b[32m     14\u001b[39m \u001b[38;5;28;01mfor\u001b[39;00m sent \u001b[38;5;129;01min\u001b[39;00m sentences:\n\u001b[32m---> \u001b[39m\u001b[32m15\u001b[39m     encoded = \u001b[43mtokenizer\u001b[49m\u001b[43m.\u001b[49m\u001b[43mencode\u001b[49m\u001b[43m(\u001b[49m\u001b[43msent\u001b[49m\u001b[43m)\u001b[49m\n\u001b[32m     16\u001b[39m     tokens = encoded.tokens\n\u001b[32m     17\u001b[39m     \u001b[38;5;28;01mfor\u001b[39;00m token \u001b[38;5;129;01min\u001b[39;00m tokens:\n",
      "\u001b[31mKeyboardInterrupt\u001b[39m: "
     ]
    },
    {
     "ename": "",
     "evalue": "",
     "output_type": "error",
     "traceback": [
      "\u001b[1;31mThe Kernel crashed while executing code in the the current cell or a previous cell. Please review the code in the cell(s) to identify a possible cause of the failure. Click <a href='https://aka.ms/vscodeJupyterKernelCrash'>here</a> for more info. View Jupyter <a href='command:jupyter.viewOutput'>log</a> for further details."
     ]
    }
   ],
   "source": [
    "from tokenizers import Tokenizer\n",
    "import pandas as pd\n",
    "\n",
    "# トークナイザーの読み込み\n",
    "tokenizer = Tokenizer.from_file(\"tokenizer.json\")\n",
    "\n",
    "# 入力CSVの読み込み\n",
    "df = pd.read_csv(\"../data/corpus.csv\")\n",
    "sentences = df[\"sentence\"].dropna().astype(str).tolist()\n",
    "\n",
    "# 未知語が含まれる文・単語を収集\n",
    "unk_summary = []\n",
    "\n",
    "for sent in sentences:\n",
    "    encoded = tokenizer.encode(sent)\n",
    "    tokens = encoded.tokens\n",
    "    for token in tokens:\n",
    "        if token == \"[UNK]\":\n",
    "            unk_summary.append({\n",
    "                \"sentence\": sent,\n",
    "                \"unknown_token\": token\n",
    "            })\n",
    "\n",
    "# 結果をDataFrameとして保存・確認\n",
    "df_unk = pd.DataFrame(unk_summary)\n",
    "df_unk.to_csv(\"unknown_tokens.csv\", index=False)\n",
    "\n",
    "print(f\"✅ 未知語が含まれる文: {len(df_unk)}件を unknown_tokens.csv に出力しました\")\n"
   ]
  },
  {
   "cell_type": "code",
   "execution_count": null,
   "metadata": {},
   "outputs": [],
   "source": []
  }
 ],
 "metadata": {
  "kernelspec": {
   "display_name": "gen",
   "language": "python",
   "name": "python3"
  },
  "language_info": {
   "codemirror_mode": {
    "name": "ipython",
    "version": 3
   },
   "file_extension": ".py",
   "mimetype": "text/x-python",
   "name": "python",
   "nbconvert_exporter": "python",
   "pygments_lexer": "ipython3",
   "version": "3.12.0"
  }
 },
 "nbformat": 4,
 "nbformat_minor": 2
}
