{
 "cells": [
  {
   "cell_type": "code",
   "execution_count": 8,
   "id": "8660af7c",
   "metadata": {},
   "outputs": [],
   "source": [
    "import pandas as pd"
   ]
  },
  {
   "cell_type": "code",
   "execution_count": 28,
   "id": "35c01ce0",
   "metadata": {},
   "outputs": [],
   "source": [
    "df = pd.read_csv('merged_fulltext_sentences.csv')"
   ]
  },
  {
   "cell_type": "code",
   "execution_count": 24,
   "id": "9aea662f",
   "metadata": {},
   "outputs": [
    {
     "data": {
      "text/plain": [
       "31456    2024-07-19\n",
       "31457           NaN\n",
       "31458    2024-07-25\n",
       "31459    2024-07-27\n",
       "31460           NaN\n",
       "Name: dateOfCompletion, dtype: object"
      ]
     },
     "execution_count": 24,
     "metadata": {},
     "output_type": "execute_result"
    }
   ],
   "source": [
    "df['dateOfCompletion'].tail()"
   ]
  },
  {
   "cell_type": "code",
   "execution_count": 25,
   "id": "5dc6fd29",
   "metadata": {},
   "outputs": [
    {
     "data": {
      "text/html": [
       "<div>\n",
       "<style scoped>\n",
       "    .dataframe tbody tr th:only-of-type {\n",
       "        vertical-align: middle;\n",
       "    }\n",
       "\n",
       "    .dataframe tbody tr th {\n",
       "        vertical-align: top;\n",
       "    }\n",
       "\n",
       "    .dataframe thead th {\n",
       "        text-align: right;\n",
       "    }\n",
       "</style>\n",
       "<table border=\"1\" class=\"dataframe\">\n",
       "  <thead>\n",
       "    <tr style=\"text-align: right;\">\n",
       "      <th></th>\n",
       "      <th>id</th>\n",
       "      <th>source</th>\n",
       "      <th>pmid</th>\n",
       "      <th>pmcid</th>\n",
       "      <th>fullTextIdList</th>\n",
       "      <th>doi</th>\n",
       "      <th>title</th>\n",
       "      <th>authorString</th>\n",
       "      <th>authorList</th>\n",
       "      <th>authorIdList</th>\n",
       "      <th>...</th>\n",
       "      <th>fulltext</th>\n",
       "      <th>grantsList</th>\n",
       "      <th>keywordList</th>\n",
       "      <th>dataLinksTagsList</th>\n",
       "      <th>tmAccessionTypeList</th>\n",
       "      <th>commentCorrectionList</th>\n",
       "      <th>investigatorList</th>\n",
       "      <th>dbCrossReferenceList</th>\n",
       "      <th>manuscriptId</th>\n",
       "      <th>embargoDate</th>\n",
       "    </tr>\n",
       "  </thead>\n",
       "  <tbody>\n",
       "    <tr>\n",
       "      <th>31456</th>\n",
       "      <td>39028245</td>\n",
       "      <td>MED</td>\n",
       "      <td>39028245.0</td>\n",
       "      <td>PMC11254163</td>\n",
       "      <td>{'fullTextId': ['PMC11254163']}</td>\n",
       "      <td>10.5811/westjem.18541</td>\n",
       "      <td>The Evolution of Board-Certified Emergency Phy...</td>\n",
       "      <td>Shopen N, Tshuva R, Drescher MJ, Glatstein M, ...</td>\n",
       "      <td>{'author': [{'fullName': 'Shopen N', 'firstNam...</td>\n",
       "      <td>{'authorId': [{'type': 'ORCID', 'value': '0000...</td>\n",
       "      <td>...</td>\n",
       "      <td>Address for Correspondence: Noaa Shopen, MD, T...</td>\n",
       "      <td>NaN</td>\n",
       "      <td>NaN</td>\n",
       "      <td>{'dataLinkstag': ['supporting_data']}</td>\n",
       "      <td>NaN</td>\n",
       "      <td>NaN</td>\n",
       "      <td>NaN</td>\n",
       "      <td>NaN</td>\n",
       "      <td>NaN</td>\n",
       "      <td>NaN</td>\n",
       "    </tr>\n",
       "    <tr>\n",
       "      <th>31457</th>\n",
       "      <td>39050912</td>\n",
       "      <td>MED</td>\n",
       "      <td>39050912.0</td>\n",
       "      <td>PMC11267110</td>\n",
       "      <td>{'fullTextId': ['PMC11267110']}</td>\n",
       "      <td>10.1016/j.euros.2024.06.012</td>\n",
       "      <td>Clinical Validation of Multiparametric Ultraso...</td>\n",
       "      <td>van den Kroonenberg DL, Jager A, Garrido-Utril...</td>\n",
       "      <td>{'author': [{'fullName': 'van den Kroonenberg ...</td>\n",
       "      <td>{'authorId': [{'type': 'ORCID', 'value': '0000...</td>\n",
       "      <td>...</td>\n",
       "      <td>Corresponding author. Department of Urology, A...</td>\n",
       "      <td>NaN</td>\n",
       "      <td>{'keyword': ['Artificial intelligence', 'ultra...</td>\n",
       "      <td>{'dataLinkstag': ['supporting_data']}</td>\n",
       "      <td>{'accessionType': ['nct']}</td>\n",
       "      <td>NaN</td>\n",
       "      <td>NaN</td>\n",
       "      <td>NaN</td>\n",
       "      <td>NaN</td>\n",
       "      <td>NaN</td>\n",
       "    </tr>\n",
       "    <tr>\n",
       "      <th>31458</th>\n",
       "      <td>39052745</td>\n",
       "      <td>MED</td>\n",
       "      <td>39052745.0</td>\n",
       "      <td>PMC11272080</td>\n",
       "      <td>{'fullTextId': ['PMC11272080']}</td>\n",
       "      <td>10.1093/infdis/jiae206</td>\n",
       "      <td>Testing and Treatment Interventions in Communi...</td>\n",
       "      <td>Allen LI, Fraser H, Stone J, McAuley A, Trayne...</td>\n",
       "      <td>{'author': [{'fullName': 'Allen LI', 'firstNam...</td>\n",
       "      <td>{'authorId': [{'type': 'ORCID', 'value': '0000...</td>\n",
       "      <td>...</td>\n",
       "      <td>S. J. H., P. V., and M. H. contributed equally...</td>\n",
       "      <td>{'grant': [{'agency': 'Public Health Scotland'...</td>\n",
       "      <td>{'keyword': ['Modeling', 'HIV', 'Hiv Testing',...</td>\n",
       "      <td>{'dataLinkstag': ['supporting_data']}</td>\n",
       "      <td>NaN</td>\n",
       "      <td>NaN</td>\n",
       "      <td>NaN</td>\n",
       "      <td>NaN</td>\n",
       "      <td>NaN</td>\n",
       "      <td>NaN</td>\n",
       "    </tr>\n",
       "    <tr>\n",
       "      <th>31459</th>\n",
       "      <td>39058861</td>\n",
       "      <td>MED</td>\n",
       "      <td>39058861.0</td>\n",
       "      <td>PMC11272336</td>\n",
       "      <td>{'fullTextId': ['PMC11272336']}</td>\n",
       "      <td>10.1097/md.0000000000038688</td>\n",
       "      <td>Development of Fournier's gangrene after chemo...</td>\n",
       "      <td>Nonaka K, Kawase K, Takagi K, Takatsu Y, Maniw...</td>\n",
       "      <td>{'author': [{'fullName': 'Nonaka K', 'firstNam...</td>\n",
       "      <td>{'authorId': [{'type': 'ORCID', 'value': '0000...</td>\n",
       "      <td>...</td>\n",
       "      <td>Correspondence: Kenichi Nonaka, Department of ...</td>\n",
       "      <td>NaN</td>\n",
       "      <td>NaN</td>\n",
       "      <td>NaN</td>\n",
       "      <td>NaN</td>\n",
       "      <td>NaN</td>\n",
       "      <td>NaN</td>\n",
       "      <td>NaN</td>\n",
       "      <td>NaN</td>\n",
       "      <td>NaN</td>\n",
       "    </tr>\n",
       "    <tr>\n",
       "      <th>31460</th>\n",
       "      <td>39035574</td>\n",
       "      <td>MED</td>\n",
       "      <td>39035574.0</td>\n",
       "      <td>PMC11259134</td>\n",
       "      <td>{'fullTextId': ['PMC11259134']}</td>\n",
       "      <td>10.1093/ofid/ofae358</td>\n",
       "      <td>A Diagnostic Stewardship Intervention to Impro...</td>\n",
       "      <td>Colson JD, Kendall JA, Yamamoto T, Mizusawa M.</td>\n",
       "      <td>{'author': [{'fullName': 'Colson JD', 'firstNa...</td>\n",
       "      <td>{'authorId': [{'type': 'ORCID', 'value': '0000...</td>\n",
       "      <td>...</td>\n",
       "      <td>Correspondence: Masako Mizusawa, MD, PhD, MS, ...</td>\n",
       "      <td>NaN</td>\n",
       "      <td>{'keyword': ['Biomarker', 'Invasive Fungal Inf...</td>\n",
       "      <td>{'dataLinkstag': ['altmetrics', 'supporting_da...</td>\n",
       "      <td>NaN</td>\n",
       "      <td>NaN</td>\n",
       "      <td>NaN</td>\n",
       "      <td>NaN</td>\n",
       "      <td>NaN</td>\n",
       "      <td>NaN</td>\n",
       "    </tr>\n",
       "  </tbody>\n",
       "</table>\n",
       "<p>5 rows × 58 columns</p>\n",
       "</div>"
      ],
      "text/plain": [
       "             id source        pmid        pmcid  \\\n",
       "31456  39028245    MED  39028245.0  PMC11254163   \n",
       "31457  39050912    MED  39050912.0  PMC11267110   \n",
       "31458  39052745    MED  39052745.0  PMC11272080   \n",
       "31459  39058861    MED  39058861.0  PMC11272336   \n",
       "31460  39035574    MED  39035574.0  PMC11259134   \n",
       "\n",
       "                        fullTextIdList                          doi  \\\n",
       "31456  {'fullTextId': ['PMC11254163']}        10.5811/westjem.18541   \n",
       "31457  {'fullTextId': ['PMC11267110']}  10.1016/j.euros.2024.06.012   \n",
       "31458  {'fullTextId': ['PMC11272080']}       10.1093/infdis/jiae206   \n",
       "31459  {'fullTextId': ['PMC11272336']}  10.1097/md.0000000000038688   \n",
       "31460  {'fullTextId': ['PMC11259134']}         10.1093/ofid/ofae358   \n",
       "\n",
       "                                                   title  \\\n",
       "31456  The Evolution of Board-Certified Emergency Phy...   \n",
       "31457  Clinical Validation of Multiparametric Ultraso...   \n",
       "31458  Testing and Treatment Interventions in Communi...   \n",
       "31459  Development of Fournier's gangrene after chemo...   \n",
       "31460  A Diagnostic Stewardship Intervention to Impro...   \n",
       "\n",
       "                                            authorString  \\\n",
       "31456  Shopen N, Tshuva R, Drescher MJ, Glatstein M, ...   \n",
       "31457  van den Kroonenberg DL, Jager A, Garrido-Utril...   \n",
       "31458  Allen LI, Fraser H, Stone J, McAuley A, Trayne...   \n",
       "31459  Nonaka K, Kawase K, Takagi K, Takatsu Y, Maniw...   \n",
       "31460     Colson JD, Kendall JA, Yamamoto T, Mizusawa M.   \n",
       "\n",
       "                                              authorList  \\\n",
       "31456  {'author': [{'fullName': 'Shopen N', 'firstNam...   \n",
       "31457  {'author': [{'fullName': 'van den Kroonenberg ...   \n",
       "31458  {'author': [{'fullName': 'Allen LI', 'firstNam...   \n",
       "31459  {'author': [{'fullName': 'Nonaka K', 'firstNam...   \n",
       "31460  {'author': [{'fullName': 'Colson JD', 'firstNa...   \n",
       "\n",
       "                                            authorIdList  ...  \\\n",
       "31456  {'authorId': [{'type': 'ORCID', 'value': '0000...  ...   \n",
       "31457  {'authorId': [{'type': 'ORCID', 'value': '0000...  ...   \n",
       "31458  {'authorId': [{'type': 'ORCID', 'value': '0000...  ...   \n",
       "31459  {'authorId': [{'type': 'ORCID', 'value': '0000...  ...   \n",
       "31460  {'authorId': [{'type': 'ORCID', 'value': '0000...  ...   \n",
       "\n",
       "                                                fulltext  \\\n",
       "31456  Address for Correspondence: Noaa Shopen, MD, T...   \n",
       "31457  Corresponding author. Department of Urology, A...   \n",
       "31458  S. J. H., P. V., and M. H. contributed equally...   \n",
       "31459  Correspondence: Kenichi Nonaka, Department of ...   \n",
       "31460  Correspondence: Masako Mizusawa, MD, PhD, MS, ...   \n",
       "\n",
       "                                              grantsList  \\\n",
       "31456                                                NaN   \n",
       "31457                                                NaN   \n",
       "31458  {'grant': [{'agency': 'Public Health Scotland'...   \n",
       "31459                                                NaN   \n",
       "31460                                                NaN   \n",
       "\n",
       "                                             keywordList  \\\n",
       "31456                                                NaN   \n",
       "31457  {'keyword': ['Artificial intelligence', 'ultra...   \n",
       "31458  {'keyword': ['Modeling', 'HIV', 'Hiv Testing',...   \n",
       "31459                                                NaN   \n",
       "31460  {'keyword': ['Biomarker', 'Invasive Fungal Inf...   \n",
       "\n",
       "                                       dataLinksTagsList  \\\n",
       "31456              {'dataLinkstag': ['supporting_data']}   \n",
       "31457              {'dataLinkstag': ['supporting_data']}   \n",
       "31458              {'dataLinkstag': ['supporting_data']}   \n",
       "31459                                                NaN   \n",
       "31460  {'dataLinkstag': ['altmetrics', 'supporting_da...   \n",
       "\n",
       "              tmAccessionTypeList commentCorrectionList investigatorList  \\\n",
       "31456                         NaN                   NaN              NaN   \n",
       "31457  {'accessionType': ['nct']}                   NaN              NaN   \n",
       "31458                         NaN                   NaN              NaN   \n",
       "31459                         NaN                   NaN              NaN   \n",
       "31460                         NaN                   NaN              NaN   \n",
       "\n",
       "      dbCrossReferenceList manuscriptId embargoDate  \n",
       "31456                  NaN          NaN         NaN  \n",
       "31457                  NaN          NaN         NaN  \n",
       "31458                  NaN          NaN         NaN  \n",
       "31459                  NaN          NaN         NaN  \n",
       "31460                  NaN          NaN         NaN  \n",
       "\n",
       "[5 rows x 58 columns]"
      ]
     },
     "execution_count": 25,
     "metadata": {},
     "output_type": "execute_result"
    }
   ],
   "source": [
    "df.tail()"
   ]
  },
  {
   "cell_type": "code",
   "execution_count": 29,
   "id": "bd3fc7b0",
   "metadata": {},
   "outputs": [
    {
     "data": {
      "text/plain": [
       "title       0\n",
       "source      0\n",
       "sentence    0\n",
       "dtype: int64"
      ]
     },
     "execution_count": 29,
     "metadata": {},
     "output_type": "execute_result"
    }
   ],
   "source": [
    "df.isnull().sum()"
   ]
  },
  {
   "cell_type": "code",
   "execution_count": 30,
   "id": "bb2309a0",
   "metadata": {},
   "outputs": [
    {
     "data": {
      "text/plain": [
       "(8214752, 3)"
      ]
     },
     "execution_count": 30,
     "metadata": {},
     "output_type": "execute_result"
    }
   ],
   "source": [
    "df.shape"
   ]
  },
  {
   "cell_type": "code",
   "execution_count": 19,
   "id": "af103317",
   "metadata": {},
   "outputs": [],
   "source": [
    "import pandas as pd"
   ]
  },
  {
   "cell_type": "code",
   "execution_count": 13,
   "id": "c4570ff8",
   "metadata": {},
   "outputs": [
    {
     "ename": "FileNotFoundError",
     "evalue": "[Errno 2] No such file or directory: 'pubmed_abstracts_learge.csv'",
     "output_type": "error",
     "traceback": [
      "\u001b[0;31m---------------------------------------------------------------------------\u001b[0m",
      "\u001b[0;31mFileNotFoundError\u001b[0m                         Traceback (most recent call last)",
      "Cell \u001b[0;32mIn[13], line 1\u001b[0m\n\u001b[0;32m----> 1\u001b[0m df \u001b[38;5;241m=\u001b[39m \u001b[43mpd\u001b[49m\u001b[38;5;241;43m.\u001b[39;49m\u001b[43mread_csv\u001b[49m\u001b[43m(\u001b[49m\u001b[38;5;124;43m'\u001b[39;49m\u001b[38;5;124;43mpubmed_abstracts_learge.csv\u001b[39;49m\u001b[38;5;124;43m'\u001b[39;49m\u001b[43m)\u001b[49m\n",
      "File \u001b[0;32m~/anaconda3/envs/torch/lib/python3.12/site-packages/pandas/io/parsers/readers.py:1026\u001b[0m, in \u001b[0;36mread_csv\u001b[0;34m(filepath_or_buffer, sep, delimiter, header, names, index_col, usecols, dtype, engine, converters, true_values, false_values, skipinitialspace, skiprows, skipfooter, nrows, na_values, keep_default_na, na_filter, verbose, skip_blank_lines, parse_dates, infer_datetime_format, keep_date_col, date_parser, date_format, dayfirst, cache_dates, iterator, chunksize, compression, thousands, decimal, lineterminator, quotechar, quoting, doublequote, escapechar, comment, encoding, encoding_errors, dialect, on_bad_lines, delim_whitespace, low_memory, memory_map, float_precision, storage_options, dtype_backend)\u001b[0m\n\u001b[1;32m   1013\u001b[0m kwds_defaults \u001b[38;5;241m=\u001b[39m _refine_defaults_read(\n\u001b[1;32m   1014\u001b[0m     dialect,\n\u001b[1;32m   1015\u001b[0m     delimiter,\n\u001b[0;32m   (...)\u001b[0m\n\u001b[1;32m   1022\u001b[0m     dtype_backend\u001b[38;5;241m=\u001b[39mdtype_backend,\n\u001b[1;32m   1023\u001b[0m )\n\u001b[1;32m   1024\u001b[0m kwds\u001b[38;5;241m.\u001b[39mupdate(kwds_defaults)\n\u001b[0;32m-> 1026\u001b[0m \u001b[38;5;28;01mreturn\u001b[39;00m \u001b[43m_read\u001b[49m\u001b[43m(\u001b[49m\u001b[43mfilepath_or_buffer\u001b[49m\u001b[43m,\u001b[49m\u001b[43m \u001b[49m\u001b[43mkwds\u001b[49m\u001b[43m)\u001b[49m\n",
      "File \u001b[0;32m~/anaconda3/envs/torch/lib/python3.12/site-packages/pandas/io/parsers/readers.py:620\u001b[0m, in \u001b[0;36m_read\u001b[0;34m(filepath_or_buffer, kwds)\u001b[0m\n\u001b[1;32m    617\u001b[0m _validate_names(kwds\u001b[38;5;241m.\u001b[39mget(\u001b[38;5;124m\"\u001b[39m\u001b[38;5;124mnames\u001b[39m\u001b[38;5;124m\"\u001b[39m, \u001b[38;5;28;01mNone\u001b[39;00m))\n\u001b[1;32m    619\u001b[0m \u001b[38;5;66;03m# Create the parser.\u001b[39;00m\n\u001b[0;32m--> 620\u001b[0m parser \u001b[38;5;241m=\u001b[39m \u001b[43mTextFileReader\u001b[49m\u001b[43m(\u001b[49m\u001b[43mfilepath_or_buffer\u001b[49m\u001b[43m,\u001b[49m\u001b[43m \u001b[49m\u001b[38;5;241;43m*\u001b[39;49m\u001b[38;5;241;43m*\u001b[39;49m\u001b[43mkwds\u001b[49m\u001b[43m)\u001b[49m\n\u001b[1;32m    622\u001b[0m \u001b[38;5;28;01mif\u001b[39;00m chunksize \u001b[38;5;129;01mor\u001b[39;00m iterator:\n\u001b[1;32m    623\u001b[0m     \u001b[38;5;28;01mreturn\u001b[39;00m parser\n",
      "File \u001b[0;32m~/anaconda3/envs/torch/lib/python3.12/site-packages/pandas/io/parsers/readers.py:1620\u001b[0m, in \u001b[0;36mTextFileReader.__init__\u001b[0;34m(self, f, engine, **kwds)\u001b[0m\n\u001b[1;32m   1617\u001b[0m     \u001b[38;5;28mself\u001b[39m\u001b[38;5;241m.\u001b[39moptions[\u001b[38;5;124m\"\u001b[39m\u001b[38;5;124mhas_index_names\u001b[39m\u001b[38;5;124m\"\u001b[39m] \u001b[38;5;241m=\u001b[39m kwds[\u001b[38;5;124m\"\u001b[39m\u001b[38;5;124mhas_index_names\u001b[39m\u001b[38;5;124m\"\u001b[39m]\n\u001b[1;32m   1619\u001b[0m \u001b[38;5;28mself\u001b[39m\u001b[38;5;241m.\u001b[39mhandles: IOHandles \u001b[38;5;241m|\u001b[39m \u001b[38;5;28;01mNone\u001b[39;00m \u001b[38;5;241m=\u001b[39m \u001b[38;5;28;01mNone\u001b[39;00m\n\u001b[0;32m-> 1620\u001b[0m \u001b[38;5;28mself\u001b[39m\u001b[38;5;241m.\u001b[39m_engine \u001b[38;5;241m=\u001b[39m \u001b[38;5;28;43mself\u001b[39;49m\u001b[38;5;241;43m.\u001b[39;49m\u001b[43m_make_engine\u001b[49m\u001b[43m(\u001b[49m\u001b[43mf\u001b[49m\u001b[43m,\u001b[49m\u001b[43m \u001b[49m\u001b[38;5;28;43mself\u001b[39;49m\u001b[38;5;241;43m.\u001b[39;49m\u001b[43mengine\u001b[49m\u001b[43m)\u001b[49m\n",
      "File \u001b[0;32m~/anaconda3/envs/torch/lib/python3.12/site-packages/pandas/io/parsers/readers.py:1880\u001b[0m, in \u001b[0;36mTextFileReader._make_engine\u001b[0;34m(self, f, engine)\u001b[0m\n\u001b[1;32m   1878\u001b[0m     \u001b[38;5;28;01mif\u001b[39;00m \u001b[38;5;124m\"\u001b[39m\u001b[38;5;124mb\u001b[39m\u001b[38;5;124m\"\u001b[39m \u001b[38;5;129;01mnot\u001b[39;00m \u001b[38;5;129;01min\u001b[39;00m mode:\n\u001b[1;32m   1879\u001b[0m         mode \u001b[38;5;241m+\u001b[39m\u001b[38;5;241m=\u001b[39m \u001b[38;5;124m\"\u001b[39m\u001b[38;5;124mb\u001b[39m\u001b[38;5;124m\"\u001b[39m\n\u001b[0;32m-> 1880\u001b[0m \u001b[38;5;28mself\u001b[39m\u001b[38;5;241m.\u001b[39mhandles \u001b[38;5;241m=\u001b[39m \u001b[43mget_handle\u001b[49m\u001b[43m(\u001b[49m\n\u001b[1;32m   1881\u001b[0m \u001b[43m    \u001b[49m\u001b[43mf\u001b[49m\u001b[43m,\u001b[49m\n\u001b[1;32m   1882\u001b[0m \u001b[43m    \u001b[49m\u001b[43mmode\u001b[49m\u001b[43m,\u001b[49m\n\u001b[1;32m   1883\u001b[0m \u001b[43m    \u001b[49m\u001b[43mencoding\u001b[49m\u001b[38;5;241;43m=\u001b[39;49m\u001b[38;5;28;43mself\u001b[39;49m\u001b[38;5;241;43m.\u001b[39;49m\u001b[43moptions\u001b[49m\u001b[38;5;241;43m.\u001b[39;49m\u001b[43mget\u001b[49m\u001b[43m(\u001b[49m\u001b[38;5;124;43m\"\u001b[39;49m\u001b[38;5;124;43mencoding\u001b[39;49m\u001b[38;5;124;43m\"\u001b[39;49m\u001b[43m,\u001b[49m\u001b[43m \u001b[49m\u001b[38;5;28;43;01mNone\u001b[39;49;00m\u001b[43m)\u001b[49m\u001b[43m,\u001b[49m\n\u001b[1;32m   1884\u001b[0m \u001b[43m    \u001b[49m\u001b[43mcompression\u001b[49m\u001b[38;5;241;43m=\u001b[39;49m\u001b[38;5;28;43mself\u001b[39;49m\u001b[38;5;241;43m.\u001b[39;49m\u001b[43moptions\u001b[49m\u001b[38;5;241;43m.\u001b[39;49m\u001b[43mget\u001b[49m\u001b[43m(\u001b[49m\u001b[38;5;124;43m\"\u001b[39;49m\u001b[38;5;124;43mcompression\u001b[39;49m\u001b[38;5;124;43m\"\u001b[39;49m\u001b[43m,\u001b[49m\u001b[43m \u001b[49m\u001b[38;5;28;43;01mNone\u001b[39;49;00m\u001b[43m)\u001b[49m\u001b[43m,\u001b[49m\n\u001b[1;32m   1885\u001b[0m \u001b[43m    \u001b[49m\u001b[43mmemory_map\u001b[49m\u001b[38;5;241;43m=\u001b[39;49m\u001b[38;5;28;43mself\u001b[39;49m\u001b[38;5;241;43m.\u001b[39;49m\u001b[43moptions\u001b[49m\u001b[38;5;241;43m.\u001b[39;49m\u001b[43mget\u001b[49m\u001b[43m(\u001b[49m\u001b[38;5;124;43m\"\u001b[39;49m\u001b[38;5;124;43mmemory_map\u001b[39;49m\u001b[38;5;124;43m\"\u001b[39;49m\u001b[43m,\u001b[49m\u001b[43m \u001b[49m\u001b[38;5;28;43;01mFalse\u001b[39;49;00m\u001b[43m)\u001b[49m\u001b[43m,\u001b[49m\n\u001b[1;32m   1886\u001b[0m \u001b[43m    \u001b[49m\u001b[43mis_text\u001b[49m\u001b[38;5;241;43m=\u001b[39;49m\u001b[43mis_text\u001b[49m\u001b[43m,\u001b[49m\n\u001b[1;32m   1887\u001b[0m \u001b[43m    \u001b[49m\u001b[43merrors\u001b[49m\u001b[38;5;241;43m=\u001b[39;49m\u001b[38;5;28;43mself\u001b[39;49m\u001b[38;5;241;43m.\u001b[39;49m\u001b[43moptions\u001b[49m\u001b[38;5;241;43m.\u001b[39;49m\u001b[43mget\u001b[49m\u001b[43m(\u001b[49m\u001b[38;5;124;43m\"\u001b[39;49m\u001b[38;5;124;43mencoding_errors\u001b[39;49m\u001b[38;5;124;43m\"\u001b[39;49m\u001b[43m,\u001b[49m\u001b[43m \u001b[49m\u001b[38;5;124;43m\"\u001b[39;49m\u001b[38;5;124;43mstrict\u001b[39;49m\u001b[38;5;124;43m\"\u001b[39;49m\u001b[43m)\u001b[49m\u001b[43m,\u001b[49m\n\u001b[1;32m   1888\u001b[0m \u001b[43m    \u001b[49m\u001b[43mstorage_options\u001b[49m\u001b[38;5;241;43m=\u001b[39;49m\u001b[38;5;28;43mself\u001b[39;49m\u001b[38;5;241;43m.\u001b[39;49m\u001b[43moptions\u001b[49m\u001b[38;5;241;43m.\u001b[39;49m\u001b[43mget\u001b[49m\u001b[43m(\u001b[49m\u001b[38;5;124;43m\"\u001b[39;49m\u001b[38;5;124;43mstorage_options\u001b[39;49m\u001b[38;5;124;43m\"\u001b[39;49m\u001b[43m,\u001b[49m\u001b[43m \u001b[49m\u001b[38;5;28;43;01mNone\u001b[39;49;00m\u001b[43m)\u001b[49m\u001b[43m,\u001b[49m\n\u001b[1;32m   1889\u001b[0m \u001b[43m\u001b[49m\u001b[43m)\u001b[49m\n\u001b[1;32m   1890\u001b[0m \u001b[38;5;28;01massert\u001b[39;00m \u001b[38;5;28mself\u001b[39m\u001b[38;5;241m.\u001b[39mhandles \u001b[38;5;129;01mis\u001b[39;00m \u001b[38;5;129;01mnot\u001b[39;00m \u001b[38;5;28;01mNone\u001b[39;00m\n\u001b[1;32m   1891\u001b[0m f \u001b[38;5;241m=\u001b[39m \u001b[38;5;28mself\u001b[39m\u001b[38;5;241m.\u001b[39mhandles\u001b[38;5;241m.\u001b[39mhandle\n",
      "File \u001b[0;32m~/anaconda3/envs/torch/lib/python3.12/site-packages/pandas/io/common.py:873\u001b[0m, in \u001b[0;36mget_handle\u001b[0;34m(path_or_buf, mode, encoding, compression, memory_map, is_text, errors, storage_options)\u001b[0m\n\u001b[1;32m    868\u001b[0m \u001b[38;5;28;01melif\u001b[39;00m \u001b[38;5;28misinstance\u001b[39m(handle, \u001b[38;5;28mstr\u001b[39m):\n\u001b[1;32m    869\u001b[0m     \u001b[38;5;66;03m# Check whether the filename is to be opened in binary mode.\u001b[39;00m\n\u001b[1;32m    870\u001b[0m     \u001b[38;5;66;03m# Binary mode does not support 'encoding' and 'newline'.\u001b[39;00m\n\u001b[1;32m    871\u001b[0m     \u001b[38;5;28;01mif\u001b[39;00m ioargs\u001b[38;5;241m.\u001b[39mencoding \u001b[38;5;129;01mand\u001b[39;00m \u001b[38;5;124m\"\u001b[39m\u001b[38;5;124mb\u001b[39m\u001b[38;5;124m\"\u001b[39m \u001b[38;5;129;01mnot\u001b[39;00m \u001b[38;5;129;01min\u001b[39;00m ioargs\u001b[38;5;241m.\u001b[39mmode:\n\u001b[1;32m    872\u001b[0m         \u001b[38;5;66;03m# Encoding\u001b[39;00m\n\u001b[0;32m--> 873\u001b[0m         handle \u001b[38;5;241m=\u001b[39m \u001b[38;5;28;43mopen\u001b[39;49m\u001b[43m(\u001b[49m\n\u001b[1;32m    874\u001b[0m \u001b[43m            \u001b[49m\u001b[43mhandle\u001b[49m\u001b[43m,\u001b[49m\n\u001b[1;32m    875\u001b[0m \u001b[43m            \u001b[49m\u001b[43mioargs\u001b[49m\u001b[38;5;241;43m.\u001b[39;49m\u001b[43mmode\u001b[49m\u001b[43m,\u001b[49m\n\u001b[1;32m    876\u001b[0m \u001b[43m            \u001b[49m\u001b[43mencoding\u001b[49m\u001b[38;5;241;43m=\u001b[39;49m\u001b[43mioargs\u001b[49m\u001b[38;5;241;43m.\u001b[39;49m\u001b[43mencoding\u001b[49m\u001b[43m,\u001b[49m\n\u001b[1;32m    877\u001b[0m \u001b[43m            \u001b[49m\u001b[43merrors\u001b[49m\u001b[38;5;241;43m=\u001b[39;49m\u001b[43merrors\u001b[49m\u001b[43m,\u001b[49m\n\u001b[1;32m    878\u001b[0m \u001b[43m            \u001b[49m\u001b[43mnewline\u001b[49m\u001b[38;5;241;43m=\u001b[39;49m\u001b[38;5;124;43m\"\u001b[39;49m\u001b[38;5;124;43m\"\u001b[39;49m\u001b[43m,\u001b[49m\n\u001b[1;32m    879\u001b[0m \u001b[43m        \u001b[49m\u001b[43m)\u001b[49m\n\u001b[1;32m    880\u001b[0m     \u001b[38;5;28;01melse\u001b[39;00m:\n\u001b[1;32m    881\u001b[0m         \u001b[38;5;66;03m# Binary mode\u001b[39;00m\n\u001b[1;32m    882\u001b[0m         handle \u001b[38;5;241m=\u001b[39m \u001b[38;5;28mopen\u001b[39m(handle, ioargs\u001b[38;5;241m.\u001b[39mmode)\n",
      "\u001b[0;31mFileNotFoundError\u001b[0m: [Errno 2] No such file or directory: 'pubmed_abstracts_learge.csv'"
     ]
    }
   ],
   "source": [
    "df = pd.read_csv('pubmed_abstracts_learge.csv')"
   ]
  },
  {
   "cell_type": "code",
   "execution_count": 9,
   "id": "1e5cd387",
   "metadata": {},
   "outputs": [
    {
     "data": {
      "text/html": [
       "<div>\n",
       "<style scoped>\n",
       "    .dataframe tbody tr th:only-of-type {\n",
       "        vertical-align: middle;\n",
       "    }\n",
       "\n",
       "    .dataframe tbody tr th {\n",
       "        vertical-align: top;\n",
       "    }\n",
       "\n",
       "    .dataframe thead th {\n",
       "        text-align: right;\n",
       "    }\n",
       "</style>\n",
       "<table border=\"1\" class=\"dataframe\">\n",
       "  <thead>\n",
       "    <tr style=\"text-align: right;\">\n",
       "      <th></th>\n",
       "      <th>pmid</th>\n",
       "      <th>title</th>\n",
       "      <th>abstract</th>\n",
       "      <th>pub_date</th>\n",
       "      <th>journal</th>\n",
       "    </tr>\n",
       "  </thead>\n",
       "  <tbody>\n",
       "    <tr>\n",
       "      <th>0</th>\n",
       "      <td>40307918</td>\n",
       "      <td>Impact of sterile Aedes aegypti males releases...</td>\n",
       "      <td>The Sterile insect technique (SIT) has been su...</td>\n",
       "      <td>2025.0</td>\n",
       "      <td>Infectious diseases of poverty</td>\n",
       "    </tr>\n",
       "    <tr>\n",
       "      <th>1</th>\n",
       "      <td>40307886</td>\n",
       "      <td>Did China's hospital reforms improve curative ...</td>\n",
       "      <td>To assess whether the comprehensive reforms in...</td>\n",
       "      <td>2025.0</td>\n",
       "      <td>BMC health services research</td>\n",
       "    </tr>\n",
       "    <tr>\n",
       "      <th>2</th>\n",
       "      <td>40307880</td>\n",
       "      <td>SARS-CoV-2 genomic contextual data harmonizati...</td>\n",
       "      <td>The timely sharing of public health informatio...</td>\n",
       "      <td>2025.0</td>\n",
       "      <td>Archives of public health = Archives belges de...</td>\n",
       "    </tr>\n",
       "    <tr>\n",
       "      <th>3</th>\n",
       "      <td>40307867</td>\n",
       "      <td>Relationships between nurses' perceived social...</td>\n",
       "      <td>Nurses play a significant role in providing ca...</td>\n",
       "      <td>2025.0</td>\n",
       "      <td>BMC psychology</td>\n",
       "    </tr>\n",
       "    <tr>\n",
       "      <th>4</th>\n",
       "      <td>40307865</td>\n",
       "      <td>Current epidemiological status of mosquito-bor...</td>\n",
       "      <td>Mosquito-borne viral (MBV) infections caused b...</td>\n",
       "      <td>2025.0</td>\n",
       "      <td>Tropical diseases, travel medicine and vaccines</td>\n",
       "    </tr>\n",
       "  </tbody>\n",
       "</table>\n",
       "</div>"
      ],
      "text/plain": [
       "       pmid                                              title  \\\n",
       "0  40307918  Impact of sterile Aedes aegypti males releases...   \n",
       "1  40307886  Did China's hospital reforms improve curative ...   \n",
       "2  40307880  SARS-CoV-2 genomic contextual data harmonizati...   \n",
       "3  40307867  Relationships between nurses' perceived social...   \n",
       "4  40307865  Current epidemiological status of mosquito-bor...   \n",
       "\n",
       "                                            abstract  pub_date  \\\n",
       "0  The Sterile insect technique (SIT) has been su...    2025.0   \n",
       "1  To assess whether the comprehensive reforms in...    2025.0   \n",
       "2  The timely sharing of public health informatio...    2025.0   \n",
       "3  Nurses play a significant role in providing ca...    2025.0   \n",
       "4  Mosquito-borne viral (MBV) infections caused b...    2025.0   \n",
       "\n",
       "                                             journal  \n",
       "0                     Infectious diseases of poverty  \n",
       "1                       BMC health services research  \n",
       "2  Archives of public health = Archives belges de...  \n",
       "3                                     BMC psychology  \n",
       "4    Tropical diseases, travel medicine and vaccines  "
      ]
     },
     "execution_count": 9,
     "metadata": {},
     "output_type": "execute_result"
    }
   ],
   "source": [
    "df.head()\n"
   ]
  },
  {
   "cell_type": "code",
   "execution_count": 11,
   "id": "5aa48f5e",
   "metadata": {},
   "outputs": [
    {
     "data": {
      "text/plain": [
       "pmid          0\n",
       "title        18\n",
       "abstract    852\n",
       "pub_date     15\n",
       "journal       0\n",
       "dtype: int64"
      ]
     },
     "execution_count": 11,
     "metadata": {},
     "output_type": "execute_result"
    }
   ],
   "source": [
    "df.isnull().sum()"
   ]
  },
  {
   "cell_type": "code",
   "execution_count": 12,
   "id": "e0a98667",
   "metadata": {},
   "outputs": [
    {
     "data": {
      "text/plain": [
       "(9986, 5)"
      ]
     },
     "execution_count": 12,
     "metadata": {},
     "output_type": "execute_result"
    }
   ],
   "source": [
    "df.shape"
   ]
  },
  {
   "cell_type": "code",
   "execution_count": null,
   "id": "5e07a978",
   "metadata": {},
   "outputs": [],
   "source": []
  }
 ],
 "metadata": {
  "kernelspec": {
   "display_name": "torch",
   "language": "python",
   "name": "python3"
  },
  "language_info": {
   "codemirror_mode": {
    "name": "ipython",
    "version": 3
   },
   "file_extension": ".py",
   "mimetype": "text/x-python",
   "name": "python",
   "nbconvert_exporter": "python",
   "pygments_lexer": "ipython3",
   "version": "3.12.7"
  }
 },
 "nbformat": 4,
 "nbformat_minor": 5
}
