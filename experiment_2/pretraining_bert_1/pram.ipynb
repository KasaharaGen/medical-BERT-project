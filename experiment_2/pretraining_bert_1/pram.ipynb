{
 "cells": [
  {
   "cell_type": "code",
   "execution_count": 1,
   "metadata": {},
   "outputs": [
    {
     "name": "stderr",
     "output_type": "stream",
     "text": [
      "/home/gonken2020/anaconda3/envs/gen/lib/python3.12/site-packages/tqdm/auto.py:21: TqdmWarning: IProgress not found. Please update jupyter and ipywidgets. See https://ipywidgets.readthedocs.io/en/stable/user_install.html\n",
      "  from .autonotebook import tqdm as notebook_tqdm\n"
     ]
    },
    {
     "name": "stdout",
     "output_type": "stream",
     "text": [
      "✅ Total parameters: 101,422,880\n",
      "✅ Trainable parameters: 101,422,880\n"
     ]
    }
   ],
   "source": [
    "from transformers import BertForMaskedLM\n",
    "\n",
    "# 事前学習済みモデルのフォルダパス\n",
    "model_path = \"pretrain_phase1_model_ddp\"  # 保存済みモデルのフォルダに書き換え\n",
    "\n",
    "# モデルロード\n",
    "model = BertForMaskedLM.from_pretrained(model_path)\n",
    "\n",
    "# 総パラメータ数\n",
    "total_params = sum(p.numel() for p in model.parameters())\n",
    "print(f\"✅ Total parameters: {total_params:,}\")\n",
    "\n",
    "# 学習可能パラメータ数\n",
    "trainable_params = sum(p.numel() for p in model.parameters() if p.requires_grad)\n",
    "print(f\"✅ Trainable parameters: {trainable_params:,}\")\n"
   ]
  },
  {
   "cell_type": "code",
   "execution_count": null,
   "metadata": {},
   "outputs": [],
   "source": []
  }
 ],
 "metadata": {
  "kernelspec": {
   "display_name": "gen",
   "language": "python",
   "name": "python3"
  },
  "language_info": {
   "codemirror_mode": {
    "name": "ipython",
    "version": 3
   },
   "file_extension": ".py",
   "mimetype": "text/x-python",
   "name": "python",
   "nbconvert_exporter": "python",
   "pygments_lexer": "ipython3",
   "version": "3.12.0"
  }
 },
 "nbformat": 4,
 "nbformat_minor": 2
}
