{
 "cells": [
  {
   "cell_type": "code",
   "execution_count": 1,
   "metadata": {},
   "outputs": [
    {
     "name": "stderr",
     "output_type": "stream",
     "text": [
      "/home/gonken2020/anaconda3/envs/gen/lib/python3.12/site-packages/tqdm/auto.py:21: TqdmWarning: IProgress not found. Please update jupyter and ipywidgets. See https://ipywidgets.readthedocs.io/en/stable/user_install.html\n",
      "  from .autonotebook import tqdm as notebook_tqdm\n"
     ]
    },
    {
     "ename": "KeyboardInterrupt",
     "evalue": "",
     "output_type": "error",
     "traceback": [
      "\u001b[31m---------------------------------------------------------------------------\u001b[39m",
      "\u001b[31mKeyboardInterrupt\u001b[39m                         Traceback (most recent call last)",
      "\u001b[36mCell\u001b[39m\u001b[36m \u001b[39m\u001b[32mIn[1]\u001b[39m\u001b[32m, line 17\u001b[39m\n\u001b[32m     15\u001b[39m \u001b[38;5;28;01mfor\u001b[39;00m sent \u001b[38;5;129;01min\u001b[39;00m sentences:\n\u001b[32m     16\u001b[39m     tokens = tokenizer.encode(sent, add_special_tokens=\u001b[38;5;28;01mFalse\u001b[39;00m)\n\u001b[32m---> \u001b[39m\u001b[32m17\u001b[39m     \u001b[43mtoken_counter\u001b[49m\u001b[43m.\u001b[49m\u001b[43mupdate\u001b[49m\u001b[43m(\u001b[49m\u001b[43mtokens\u001b[49m\u001b[43m)\u001b[49m\n\u001b[32m     19\u001b[39m \u001b[38;5;66;03m# 使用された語彙数と使用率\u001b[39;00m\n\u001b[32m     20\u001b[39m used_token_ids = \u001b[38;5;28mset\u001b[39m(token_counter.keys())\n",
      "\u001b[36mFile \u001b[39m\u001b[32m~/anaconda3/envs/gen/lib/python3.12/collections/__init__.py:668\u001b[39m, in \u001b[36mCounter.update\u001b[39m\u001b[34m(self, iterable, **kwds)\u001b[39m\n\u001b[32m    656\u001b[39m \u001b[38;5;129m@classmethod\u001b[39m\n\u001b[32m    657\u001b[39m \u001b[38;5;28;01mdef\u001b[39;00m\u001b[38;5;250m \u001b[39m\u001b[34mfromkeys\u001b[39m(\u001b[38;5;28mcls\u001b[39m, iterable, v=\u001b[38;5;28;01mNone\u001b[39;00m):\n\u001b[32m    658\u001b[39m     \u001b[38;5;66;03m# There is no equivalent method for counters because the semantics\u001b[39;00m\n\u001b[32m   (...)\u001b[39m\u001b[32m    663\u001b[39m     \u001b[38;5;66;03m# more exotic cases, create a dictionary first using a dictionary\u001b[39;00m\n\u001b[32m    664\u001b[39m     \u001b[38;5;66;03m# comprehension or dict.fromkeys().\u001b[39;00m\n\u001b[32m    665\u001b[39m     \u001b[38;5;28;01mraise\u001b[39;00m \u001b[38;5;167;01mNotImplementedError\u001b[39;00m(\n\u001b[32m    666\u001b[39m         \u001b[33m'\u001b[39m\u001b[33mCounter.fromkeys() is undefined.  Use Counter(iterable) instead.\u001b[39m\u001b[33m'\u001b[39m)\n\u001b[32m--> \u001b[39m\u001b[32m668\u001b[39m \u001b[38;5;28;01mdef\u001b[39;00m\u001b[38;5;250m \u001b[39m\u001b[34mupdate\u001b[39m(\u001b[38;5;28mself\u001b[39m, iterable=\u001b[38;5;28;01mNone\u001b[39;00m, /, **kwds):\n\u001b[32m    669\u001b[39m \u001b[38;5;250m    \u001b[39m\u001b[33;03m'''Like dict.update() but add counts instead of replacing them.\u001b[39;00m\n\u001b[32m    670\u001b[39m \n\u001b[32m    671\u001b[39m \u001b[33;03m    Source can be an iterable, a dictionary, or another Counter instance.\u001b[39;00m\n\u001b[32m   (...)\u001b[39m\u001b[32m    679\u001b[39m \n\u001b[32m    680\u001b[39m \u001b[33;03m    '''\u001b[39;00m\n\u001b[32m    681\u001b[39m     \u001b[38;5;66;03m# The regular dict.update() operation makes no sense here because the\u001b[39;00m\n\u001b[32m    682\u001b[39m     \u001b[38;5;66;03m# replace behavior results in the some of original untouched counts\u001b[39;00m\n\u001b[32m    683\u001b[39m     \u001b[38;5;66;03m# being mixed-in with all of the other counts for a mismash that\u001b[39;00m\n\u001b[32m    684\u001b[39m     \u001b[38;5;66;03m# doesn't have a straight-forward interpretation in most counting\u001b[39;00m\n\u001b[32m    685\u001b[39m     \u001b[38;5;66;03m# contexts.  Instead, we implement straight-addition.  Both the inputs\u001b[39;00m\n\u001b[32m    686\u001b[39m     \u001b[38;5;66;03m# and outputs are allowed to contain zero and negative counts.\u001b[39;00m\n",
      "\u001b[31mKeyboardInterrupt\u001b[39m: "
     ]
    }
   ],
   "source": [
    "from collections import Counter\n",
    "import pandas as pd\n",
    "from transformers import PreTrainedTokenizerFast\n",
    "import matplotlib.pyplot as plt\n",
    "\n",
    "# トークナイザー読み込み\n",
    "tokenizer = PreTrainedTokenizerFast(tokenizer_file=\"../tokenizer/tokenizer.json\")  # あなたの再学習トークナイザー\n",
    "\n",
    "# データ読み込み\n",
    "df = pd.read_csv(\"../infection_data/abstract_sentences.csv\")\n",
    "sentences = df[\"sentence\"].dropna().astype(str).tolist()\n",
    "\n",
    "# トークン出現回数をカウント\n",
    "token_counter = Counter()\n",
    "for sent in sentences:\n",
    "    tokens = tokenizer.encode(sent, add_special_tokens=False)\n",
    "    token_counter.update(tokens)\n",
    "\n",
    "# 使用された語彙数と使用率\n",
    "used_token_ids = set(token_counter.keys())\n",
    "used_vocab_size = len(used_token_ids)\n",
    "total_vocab_size = tokenizer.vocab_size\n",
    "unused_vocab_size = total_vocab_size - used_vocab_size\n",
    "used_ratio = used_vocab_size / total_vocab_size\n",
    "\n",
    "print(\"✅ 使用語彙数:\", used_vocab_size)\n",
    "print(\"✅ 総語彙数:\", total_vocab_size)\n",
    "print(\"✅ 未使用語彙数:\", unused_vocab_size)\n",
    "print(f\"✅ 使用率: {used_ratio:.2%}\")\n",
    "\n",
    "# 上位50語の可視化\n",
    "top_tokens = token_counter.most_common(50)\n",
    "top_token_ids, top_freqs = zip(*top_tokens)\n",
    "top_token_strs = tokenizer.convert_ids_to_tokens(top_token_ids)\n",
    "\n",
    "plt.figure(figsize=(12, 6))\n",
    "plt.bar(top_token_strs, top_freqs)\n",
    "plt.xticks(rotation=90)\n",
    "plt.xlabel(\"Token\")\n",
    "plt.ylabel(\"Frequency\")\n",
    "plt.title(\"Top 50 Token Frequencies in Phase2 (Dengue Corpus)\")\n",
    "plt.tight_layout()\n",
    "plt.grid(True)\n",
    "plt.show()\n"
   ]
  },
  {
   "cell_type": "code",
   "execution_count": null,
   "metadata": {},
   "outputs": [],
   "source": []
  }
 ],
 "metadata": {
  "kernelspec": {
   "display_name": "gen",
   "language": "python",
   "name": "python3"
  },
  "language_info": {
   "codemirror_mode": {
    "name": "ipython",
    "version": 3
   },
   "file_extension": ".py",
   "mimetype": "text/x-python",
   "name": "python",
   "nbconvert_exporter": "python",
   "pygments_lexer": "ipython3",
   "version": "3.12.0"
  }
 },
 "nbformat": 4,
 "nbformat_minor": 2
}
